{
 "cells": [
  {
   "cell_type": "markdown",
   "metadata": {},
   "source": [
    "# 🦠 Interactive SEIR Model Simulation"
   ]
  },
  {
   "cell_type": "markdown",
   "metadata": {},
   "source": [
    "## Import Required Libraries"
   ]
  },
  {
   "cell_type": "code",
   "execution_count": null,
   "metadata": {},
   "outputs": [],
   "source": [
    "import numpy as np\n",
    "import matplotlib.pyplot as plt"
   ]
  },
  {
   "cell_type": "markdown",
   "metadata": {},
   "source": [
    "## SEIR Model Parameters: Configure Simulation Settings"
   ]
  },
  {
   "cell_type": "code",
   "execution_count": null,
   "metadata": {},
   "outputs": [],
   "source": [
    "N = 10_000_000   # Total population\n",
    "E0 = 10_000      # Initial number of exposed individuals\n",
    "I0 = 2_000       # Initial number of infectious individuals\n",
    "R0_value = 2.0   # Basic reproduction number (R0)\n",
    "alpha = 1 / 5.5  # Rate at which exposed individuals become infectious\n",
    "gamma = 1 / 3.0  # Recovery rate\n",
    "days = 140       # Number of days to simulate\n",
    "step = 0.1       # Time step for numerical integration"
   ]
  },
  {
   "cell_type": "markdown",
   "metadata": {},
   "source": [
    "## Explicit Euler method for numerical integration"
   ]
  },
  {
   "cell_type": "code",
   "execution_count": null,
   "metadata": {},
   "outputs": [],
   "source": [
    "def euler(f, t0, x0, t1, h):\n",
    "    \"\"\"\n",
    "    Solves an ODE using the explicit Euler method.\n",
    "\n",
    "    Parameters:\n",
    "        f  : function - The derivative function of the system.\n",
    "        t0 : float - Initial time.\n",
    "        x0 : array-like - Initial state vector.\n",
    "        t1 : float - Final time.\n",
    "        h  : float - Step size.\n",
    "\n",
    "    Returns:\n",
    "        List of time steps and corresponding state values.\n",
    "    \"\"\"\n",
    "    t = t0\n",
    "    x = x0\n",
    "    trajectory = [[t, x]]\n",
    "\n",
    "    for k in range(0, 1 + int((t1 - t0) / h)):\n",
    "        t = t0 + k * h\n",
    "        x = x + h * f(t, x)\n",
    "        trajectory.append([t, x])\n",
    "\n",
    "    return trajectory"
   ]
  },
  {
   "cell_type": "markdown",
   "metadata": {},
   "source": [
    "## SEIR Model equations"
   ]
  },
  {
   "cell_type": "code",
   "execution_count": null,
   "metadata": {},
   "outputs": [],
   "source": [
    "def SEIR_model(beta, alpha, gamma):\n",
    "    \"\"\"\n",
    "    Defines the SEIR model differential equations.\n",
    "\n",
    "    Parameters:\n",
    "        beta  : float - Transmission rate.\n",
    "        alpha : float - Rate at which exposed individuals become infectious.\n",
    "        gamma : float - Recovery rate.\n",
    "\n",
    "    Returns:\n",
    "        Function representing the SEIR model.\n",
    "    \"\"\"\n",
    "    def f(t, x):\n",
    "        S, E, I, R = x\n",
    "        return np.array([\n",
    "            -beta * S * I,              # dS/dt\n",
    "            beta * S * I - alpha * E,   # dE/dt\n",
    "            alpha * E - gamma * I,      # dI/dt\n",
    "            gamma * I                   # dR/dt\n",
    "        ])\n",
    "    return f"
   ]
  },
  {
   "cell_type": "markdown",
   "metadata": {},
   "source": [
    "## SEIR Simulation function"
   ]
  },
  {
   "cell_type": "code",
   "execution_count": null,
   "metadata": {},
   "outputs": [],
   "source": [
    "def SEIR_simulation(beta, alpha, gamma, E0, I0, days, step=0.1):\n",
    "    \"\"\"\n",
    "    Runs an SEIR model simulation.\n",
    "\n",
    "    Parameters:\n",
    "        beta  : float - Transmission rate.\n",
    "        alpha : float - Rate at which exposed individuals become infectious.\n",
    "        gamma : float - Recovery rate.\n",
    "        E0    : float - Initial proportion of exposed individuals.\n",
    "        I0    : float - Initial proportion of infectious individuals.\n",
    "        days  : int - Number of days to simulate.\n",
    "        step  : float - Time step for numerical integration.\n",
    "\n",
    "    Returns:\n",
    "        Time array and arrays of S, E, I, R values.\n",
    "    \"\"\"\n",
    "    S0 = 1.0 - E0 - I0  # Initial proportion of susceptible individuals\n",
    "    x0 = np.array([S0, E0, I0, 0.0])  # Initial state\n",
    "    f = SEIR_model(beta, alpha, gamma)\n",
    "    result = euler(f, 0, x0, days, step)\n",
    "    t, x = zip(*result)\n",
    "    return np.array(t), np.array(x).T"
   ]
  },
  {
   "cell_type": "markdown",
   "metadata": {},
   "source": [
    "## Plotting the SEIR Simulation results"
   ]
  },
  {
   "cell_type": "code",
   "execution_count": null,
   "metadata": {},
   "outputs": [],
   "source": [
    "def plot_SEIR():\n",
    "    beta = R0_value * gamma\n",
    "    E0_frac = E0 / N\n",
    "    I0_frac = I0 / N\n",
    "    t, (S, E, I, R) = SEIR_simulation(beta, alpha, gamma, E0_frac, I0_frac, days, step)\n",
    "\n",
    "    plt.style.use('seaborn-v0_8-poster')\n",
    "    fig, ax = plt.subplots(figsize=(10, 6))\n",
    "    ax.plot(t, S, label='Susceptible (S)', color='blue')\n",
    "    ax.plot(t, E, label='Exposed (E)', color='#FFA500', linestyle='--')\n",
    "    ax.plot(t, I, label='Infectious (I)', color='red')\n",
    "    ax.plot(t, R, label='Recovered (R)', color='green', linestyle='--')\n",
    "\n",
    "    ax.set_title(\"SEIR Model Simulation\", fontsize=16)\n",
    "    ax.set_xlabel(\"Days\", fontsize=12)\n",
    "    ax.set_ylabel(\"Proportion of Population\", fontsize=12)\n",
    "    ax.legend(fontsize=12, fancybox=True, shadow=True)\n",
    "    ax.grid(linestyle=':', linewidth=2.0, color='#808080')\n",
    "    plt.tight_layout()\n",
    "    plt.show()"
   ]
  },
  {
   "cell_type": "code",
   "execution_count": null,
   "metadata": {},
   "outputs": [],
   "source": [
    "plot_SEIR()"
   ]
  }
 ],
 "metadata": {
  "kernelspec": {
   "display_name": "venv",
   "language": "python",
   "name": "python3"
  },
  "language_info": {
   "codemirror_mode": {
    "name": "ipython",
    "version": 3
   },
   "file_extension": ".py",
   "mimetype": "text/x-python",
   "name": "python",
   "nbconvert_exporter": "python",
   "pygments_lexer": "ipython3",
   "version": "3.10.12"
  }
 },
 "nbformat": 4,
 "nbformat_minor": 2
}
